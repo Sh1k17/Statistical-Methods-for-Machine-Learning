{
 "cells": [
  {
   "cell_type": "code",
   "execution_count": 1,
   "metadata": {},
   "outputs": [],
   "source": [
    "import time\n",
    "import numpy as np"
   ]
  },
  {
   "cell_type": "code",
   "execution_count": 2,
   "metadata": {},
   "outputs": [],
   "source": [
    "def loadData(filename):\n",
    "    fr = open(filename,'r')\n",
    "    x,y = [],[]\n",
    "    for line in fr.readlines():\n",
    "        curline = line.strip().split(',')\n",
    "        if int(curline[0]) in [0,1]:\n",
    "            x.append([int(int(num) >= 128) for num in curline[1:]])\n",
    "            if int(curline[0]) == 0:\n",
    "                y.append(1)\n",
    "            else:\n",
    "                y.append(-1)\n",
    "    x = np.array(x)\n",
    "    y = np.array(y)\n",
    "    return x,y"
   ]
  },
  {
   "cell_type": "code",
   "execution_count": 3,
   "metadata": {},
   "outputs": [],
   "source": [
    "class Node:\n",
    "    def __init__(self,feature,labels,rule,error_rate,div_point,alpha = 0):\n",
    "        self.feature = feature\n",
    "        self.labels = labels\n",
    "        self.div_rule = rule\n",
    "        self.error_rate = error_rate\n",
    "        self.div_point = div_point\n",
    "        self.alpha = alpha"
   ]
  },
  {
   "cell_type": "code",
   "execution_count": 4,
   "metadata": {},
   "outputs": [],
   "source": [
    "class AdaBoost:\n",
    "    def __init__(self,x_train,y_train,x_val,y_val,trees_num):\n",
    "        self.x_train = x_train\n",
    "        self.y_train = y_train\n",
    "        self.x_val = x_val\n",
    "        self.y_val = y_val\n",
    "        self.m,self.n = self.x_train.shape\n",
    "        self.trees_num = trees_num\n",
    "    \n",
    "    def get_error_rate(self,feature,D,div_point):\n",
    "        labels = np.zeros(self.m)\n",
    "        for idx in range(self.m):\n",
    "            if self.x_train[idx,feature] > div_point:\n",
    "                labels[idx] = 1\n",
    "            else:\n",
    "                labels[idx] = -1\n",
    "        error = np.sum(D[labels != self.y_train])\n",
    "        return labels,error\n",
    "    \n",
    "    def create_single_tree(self,D):\n",
    "        best_error_rate = 1\n",
    "        root = None\n",
    "        for feature in range(self.n):\n",
    "            for div_point in [-0.5,0.5,1.5]:\n",
    "                labels,error_rate = self.get_error_rate(feature,D,div_point)\n",
    "                if error_rate > 0.5:\n",
    "                    error_rate = 1 - error_rate\n",
    "                    if error_rate < best_error_rate:\n",
    "                        best_error_rate = error_rate\n",
    "                        labels = ~labels.astype(np.int) + np.ones(self.m)\n",
    "                        root = Node(feature,labels,\"lower_is_1\",error_rate,div_point)\n",
    "                else:\n",
    "                    if error_rate < best_error_rate:\n",
    "                        best_error_rate = error_rate\n",
    "                        root = Node(feature,labels,\"higher_is_1\",error_rate,div_point)\n",
    "        return root\n",
    "    \n",
    "    def create_trees(self,):\n",
    "        trees = []\n",
    "        train_pred = np.zeros(self.m)\n",
    "        D = np.ones(self.m) / self.m\n",
    "        for i in range(self.trees_num):\n",
    "            start = time.time()\n",
    "            root = self.create_single_tree(D)\n",
    "            root.alpha = 1 / 2 * np.log((1 - root.error_rate) / root.error_rate) \n",
    "            D = np.multiply(D,np.exp(-1 * root.alpha * np.multiply(self.y_train,root.labels)))\n",
    "            sum_ = np.sum(D)\n",
    "            D = D / sum_\n",
    "            trees.append(root)\n",
    "            train_pred += root.alpha * root.labels\n",
    "            error = np.sum(np.sign(train_pred) != self.y_train)\n",
    "            if error == 0:\n",
    "                print(\"Creating the tree costs {:.2f} seconds.The error rate is {:.4f}\".format(time.time() - start,error / self.m))\n",
    "                break\n",
    "            print(\"Creating the tree costs {:.2f} seconds.The error rate is {:.4f}\".format(time.time() - start,error / self.m))\n",
    "        return trees\n",
    "    \n",
    "    def predict(self,x,trees):\n",
    "        score = 0\n",
    "        for i in range(len(trees)):\n",
    "            tree = trees[i]\n",
    "            if tree.div_rule == \"higher_is_1\":\n",
    "                if x[tree.feature] > tree.div_point:\n",
    "                    score += tree.alpha\n",
    "                else:\n",
    "                    score -= tree.alpha\n",
    "            else:\n",
    "                if x[tree.feature] < tree.div_point:\n",
    "                    score += tree.alpha\n",
    "                else:\n",
    "                    score -= tree.alpha\n",
    "        return np.sign(score)\n",
    "    \n",
    "    def test(self,x_val,y_val,trees):\n",
    "        len_ = x_val.shape[0]\n",
    "        correct = 0\n",
    "        for i in range(len_):\n",
    "            label = self.predict(x_val[i],trees)\n",
    "            if label == y_val[i]: correct += 1\n",
    "        return correct / len_"
   ]
  },
  {
   "cell_type": "code",
   "execution_count": 5,
   "metadata": {},
   "outputs": [],
   "source": [
    "x_train,y_train = loadData('../input/mnist_train.csv')\n",
    "x_val,y_val = loadData('../input/mnist_test.csv')"
   ]
  },
  {
   "cell_type": "code",
   "execution_count": 6,
   "metadata": {},
   "outputs": [
    {
     "name": "stdout",
     "output_type": "stream",
     "text": [
      "(12665, 784) (12665,)\n",
      "(2115, 784) (2115,)\n"
     ]
    }
   ],
   "source": [
    "print(x_train.shape,y_train.shape)\n",
    "print(x_val.shape,y_val.shape)"
   ]
  },
  {
   "cell_type": "code",
   "execution_count": 7,
   "metadata": {},
   "outputs": [],
   "source": [
    "model = AdaBoost(x_train,y_train,x_val,y_val,40)"
   ]
  },
  {
   "cell_type": "code",
   "execution_count": 8,
   "metadata": {},
   "outputs": [
    {
     "name": "stdout",
     "output_type": "stream",
     "text": [
      "Creating the tree costs 44.27 seconds.The error rate is 0.0171\n",
      "Creating the tree costs 42.60 seconds.The error rate is 0.0171\n",
      "Creating the tree costs 42.59 seconds.The error rate is 0.0171\n",
      "Creating the tree costs 42.59 seconds.The error rate is 0.0120\n",
      "Creating the tree costs 42.66 seconds.The error rate is 0.0144\n",
      "Creating the tree costs 42.49 seconds.The error rate is 0.0092\n",
      "Creating the tree costs 42.44 seconds.The error rate is 0.0078\n",
      "Creating the tree costs 42.36 seconds.The error rate is 0.0076\n",
      "Creating the tree costs 42.66 seconds.The error rate is 0.0061\n",
      "Creating the tree costs 42.34 seconds.The error rate is 0.0064\n",
      "Creating the tree costs 42.66 seconds.The error rate is 0.0060\n",
      "Creating the tree costs 42.70 seconds.The error rate is 0.0051\n",
      "Creating the tree costs 42.65 seconds.The error rate is 0.0055\n",
      "Creating the tree costs 42.61 seconds.The error rate is 0.0048\n",
      "Creating the tree costs 66.11 seconds.The error rate is 0.0048\n",
      "Creating the tree costs 44.98 seconds.The error rate is 0.0043\n",
      "Creating the tree costs 45.79 seconds.The error rate is 0.0037\n",
      "Creating the tree costs 45.42 seconds.The error rate is 0.0038\n",
      "Creating the tree costs 45.25 seconds.The error rate is 0.0036\n",
      "Creating the tree costs 44.46 seconds.The error rate is 0.0030\n",
      "Creating the tree costs 44.42 seconds.The error rate is 0.0030\n",
      "Creating the tree costs 43.96 seconds.The error rate is 0.0027\n",
      "Creating the tree costs 44.79 seconds.The error rate is 0.0025\n",
      "Creating the tree costs 45.07 seconds.The error rate is 0.0024\n",
      "Creating the tree costs 44.79 seconds.The error rate is 0.0023\n",
      "Creating the tree costs 43.69 seconds.The error rate is 0.0024\n",
      "Creating the tree costs 44.33 seconds.The error rate is 0.0024\n",
      "Creating the tree costs 44.22 seconds.The error rate is 0.0028\n",
      "Creating the tree costs 44.38 seconds.The error rate is 0.0021\n",
      "Creating the tree costs 44.15 seconds.The error rate is 0.0025\n",
      "Creating the tree costs 44.40 seconds.The error rate is 0.0020\n",
      "Creating the tree costs 43.99 seconds.The error rate is 0.0021\n",
      "Creating the tree costs 43.96 seconds.The error rate is 0.0020\n",
      "Creating the tree costs 44.01 seconds.The error rate is 0.0017\n",
      "Creating the tree costs 43.65 seconds.The error rate is 0.0015\n",
      "Creating the tree costs 44.79 seconds.The error rate is 0.0013\n",
      "Creating the tree costs 43.97 seconds.The error rate is 0.0016\n",
      "Creating the tree costs 45.53 seconds.The error rate is 0.0012\n",
      "Creating the tree costs 45.31 seconds.The error rate is 0.0016\n",
      "Creating the tree costs 45.89 seconds.The error rate is 0.0011\n"
     ]
    }
   ],
   "source": [
    "trees = model.create_trees()"
   ]
  },
  {
   "cell_type": "code",
   "execution_count": 9,
   "metadata": {},
   "outputs": [
    {
     "name": "stdout",
     "output_type": "stream",
     "text": [
      "The accuracy of the train dataset is 0.9989\n"
     ]
    }
   ],
   "source": [
    "acc_train = model.test(model.x_train,model.y_train,trees)\n",
    "print(\"The accuracy of the train dataset is {:.4f}\".format(acc_train))"
   ]
  },
  {
   "cell_type": "code",
   "execution_count": 11,
   "metadata": {},
   "outputs": [
    {
     "name": "stdout",
     "output_type": "stream",
     "text": [
      "The accuracy of the val dataset is 0.9991\n"
     ]
    }
   ],
   "source": [
    "acc_val = model.test(model.x_val,model.y_val,trees)\n",
    "print(\"The accuracy of the val dataset is {:.4f}\".format(acc_val))"
   ]
  },
  {
   "cell_type": "code",
   "execution_count": null,
   "metadata": {},
   "outputs": [],
   "source": []
  }
 ],
 "metadata": {
  "kernelspec": {
   "display_name": "Python 3",
   "language": "python",
   "name": "python3"
  },
  "language_info": {
   "codemirror_mode": {
    "name": "ipython",
    "version": 3
   },
   "file_extension": ".py",
   "mimetype": "text/x-python",
   "name": "python",
   "nbconvert_exporter": "python",
   "pygments_lexer": "ipython3",
   "version": "3.7.3"
  }
 },
 "nbformat": 4,
 "nbformat_minor": 2
}

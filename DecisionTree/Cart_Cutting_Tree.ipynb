{
 "cells": [
  {
   "cell_type": "code",
   "execution_count": 1,
   "metadata": {},
   "outputs": [],
   "source": [
    "import numpy as np\n",
    "import time\n",
    "import copy\n",
    "from collections import Counter"
   ]
  },
  {
   "cell_type": "code",
   "execution_count": 2,
   "metadata": {},
   "outputs": [],
   "source": [
    "def loadData(filename):\n",
    "    fr = open(filename,'r')\n",
    "    x,y = [],[]\n",
    "    for line in fr.readlines():\n",
    "        curline = line.strip().split(',')\n",
    "        x.append([int(int(num) >= 128) for num in curline[1:]])\n",
    "        y.append(int(curline[0]))\n",
    "    x = np.array(x)\n",
    "    y = np.array(y)\n",
    "    return x,y"
   ]
  },
  {
   "cell_type": "code",
   "execution_count": 3,
   "metadata": {},
   "outputs": [],
   "source": [
    "class Node:\n",
    "    def __init__(self,label,dims,left,right,labels):\n",
    "        self.label = label\n",
    "        self.dims = dims\n",
    "        self.left = left\n",
    "        self.right = right\n",
    "        self.labels = labels"
   ]
  },
  {
   "cell_type": "code",
   "execution_count": 4,
   "metadata": {},
   "outputs": [],
   "source": [
    "def major_label(labels):\n",
    "    return Counter(labels).most_common(1)[0][0]"
   ]
  },
  {
   "cell_type": "code",
   "execution_count": 5,
   "metadata": {},
   "outputs": [],
   "source": [
    "def cal_Gini(y_train):\n",
    "    label_set = set(y_train)\n",
    "    Gini = 1\n",
    "    for label in label_set:\n",
    "        Gini -= np.square(np.sum(y_train == label) / y_train.shape[0])\n",
    "    return Gini"
   ]
  },
  {
   "cell_type": "code",
   "execution_count": 6,
   "metadata": {},
   "outputs": [],
   "source": [
    "def cal_Feature_Gini(features,labels):\n",
    "    features_set = set(features)\n",
    "    Gini_feature = 0\n",
    "    for feature in features_set:\n",
    "        Gini_feature += np.sum(features == feature) / features.shape[0] * cal_Gini(labels[features == feature])\n",
    "    return Gini_feature"
   ]
  },
  {
   "cell_type": "code",
   "execution_count": 7,
   "metadata": {},
   "outputs": [],
   "source": [
    "def get_best_feature(x_train,y_train,features_left):\n",
    "    best_Gini = float(\"inf\")\n",
    "    best_feature = -1\n",
    "    for feature in features_left:\n",
    "        features = x_train[:,feature]\n",
    "        gini = cal_Feature_Gini(features,y_train)\n",
    "        if gini < best_Gini:\n",
    "            best_Gini = gini\n",
    "            best_feature = feature\n",
    "    return best_Gini,best_feature"
   ]
  },
  {
   "cell_type": "code",
   "execution_count": 8,
   "metadata": {},
   "outputs": [],
   "source": [
    "def build_Tree(x_train,y_train,features_left,sample_threshold,geni_threshold):\n",
    "    if x_train.shape[0] <= sample_threshold: return Node(major_label(y_train),None,None,None,y_train)\n",
    "    if cal_Gini(y_train) <= geni_threshold: return Node(major_label(y_train),None,None,None,y_train)\n",
    "    if not features_left: return Node(major_label(y_train),None,None,None,y_train)\n",
    "    \n",
    "    min_Gini = float(\"inf\")\n",
    "    dims = (-1,-1)\n",
    "    flag = False\n",
    "    for index in features_left:\n",
    "        features_values = set(x_train[:,index])\n",
    "        for value in features_values:\n",
    "            gini = cal_Feature_Gini((x_train[:,index] == value).astype(np.int),y_train)\n",
    "            if gini < min_Gini:\n",
    "                min_Gini = gini\n",
    "                dims = (index,value)\n",
    "                flag = len(features_values) <= 2\n",
    "    if flag:\n",
    "        left_copy = copy.deepcopy(features_left)\n",
    "        right_copy = copy.deepcopy(features_left)\n",
    "        left_copy.remove(dims[0])\n",
    "        right_copy.remove(dims[0])\n",
    "        return Node(major_label(y_train),dims, \\\n",
    "                    build_Tree(x_train[x_train[:,dims[0]] == dims[1]],y_train[x_train[:,dims[0]] == dims[1]],left_copy,sample_threshold,geni_threshold) \\\n",
    "                    ,build_Tree(x_train[x_train[:,dims[0]] != dims[1]],y_train[x_train[:,dims[0]] != dims[1]],right_copy,sample_threshold,geni_threshold),y_train)\n",
    "    else:\n",
    "        left_copy = copy.deepcopy(features_left)\n",
    "        right_copy = copy.deepcopy(features_left)\n",
    "        left_copy.remove(dims[0])\n",
    "        return Node(major_label(y_train),dims,\\\n",
    "                    build_Tree(x_train[x_train[:,dims[0]] == dims[1]],y_train[x_train[:,dims[0]] == dims[1]],left_copy,sample_threshold,geni_threshold) \\\n",
    "                    ,build_Tree(x_train[x_train[:,dims[0]] != dims[1]],y_train[x_train[:,dims[0]] != dims[1]],right_copy,sample_threshold,geni_threshold),y_train)          "
   ]
  },
  {
   "cell_type": "code",
   "execution_count": 9,
   "metadata": {},
   "outputs": [],
   "source": [
    "def predict(x,root):\n",
    "    cur_node = root\n",
    "    while cur_node.left or cur_node.right:\n",
    "        if x[cur_node.dims[0]] == cur_node.dims[1]:\n",
    "            cur_node = cur_node.left\n",
    "        else:\n",
    "            cur_node = cur_node.right\n",
    "    return cur_node.label"
   ]
  },
  {
   "cell_type": "code",
   "execution_count": 10,
   "metadata": {},
   "outputs": [],
   "source": [
    "def test(x_val,y_val,root):\n",
    "    size = x_val.shape[0]\n",
    "    correct = 0\n",
    "    for i in range(size):\n",
    "        pred = predict(x_val[i],root)\n",
    "        if pred == y_val[i]: correct += 1\n",
    "    return correct/size"
   ]
  },
  {
   "cell_type": "code",
   "execution_count": 11,
   "metadata": {},
   "outputs": [],
   "source": [
    "def get_tree_gini(root):\n",
    "    if not root: return 0\n",
    "    if not root.left and not root.right: return cal_Gini(root.labels) * root.labels.shape[0]\n",
    "    return get_tree_gini(root.left) + get_tree_gini(root.right)"
   ]
  },
  {
   "cell_type": "code",
   "execution_count": 12,
   "metadata": {},
   "outputs": [],
   "source": [
    "def get_nodes_num(root):\n",
    "    if not root: return 0\n",
    "    return 1 + get_nodes_num(root.left) + get_nodes_num(root.right)"
   ]
  },
  {
   "cell_type": "code",
   "execution_count": 13,
   "metadata": {},
   "outputs": [],
   "source": [
    "def get_G_t(root):\n",
    "    C_T = get_tree_gini(root)\n",
    "    C_t = cal_Gini(root.labels) * root.labels.shape[0]\n",
    "    return (C_t - C_T) / (get_nodes_num(root) - 1)"
   ]
  },
  {
   "cell_type": "code",
   "execution_count": 24,
   "metadata": {},
   "outputs": [],
   "source": [
    "class cut_Tree:\n",
    "    def __init__(self,root):\n",
    "        self.k = 0\n",
    "        self.T = root\n",
    "        self.alpha = float(\"inf\")\n",
    "        self.cut_node = None\n",
    "        self.trees = [root]\n",
    "        \n",
    "        \n",
    "    def get_tree(self,root):\n",
    "        self.post_order(root)\n",
    "        self.pre_order(root)\n",
    "        self.cut_node.label = major_label(self.cut_node.labels)\n",
    "        self.cut_node.left = None\n",
    "        self.cut_node.right = None\n",
    "        return root\n",
    "    \n",
    "    def get_trees(self,root):\n",
    "        old_root = root\n",
    "#         while old_root and old_root.left and old_root.right:\n",
    "        for i in range(1000):\n",
    "            self.alpha = float(\"inf\")\n",
    "            self.cut_node = None\n",
    "            new_root = copy.deepcopy(old_root)\n",
    "            old_root = self.get_tree(new_root)\n",
    "            self.trees.append(old_root)\n",
    "#             print(get_nodes_num(old_root))\n",
    "        \n",
    "    def post_order(self,root):\n",
    "        if not root: return\n",
    "        self.post_order(root.left)\n",
    "        self.post_order(root.right)\n",
    "        g_t = get_G_t(root)\n",
    "        self.alpha = min(self.alpha,g_t)\n",
    "    \n",
    "    def pre_order(self,root):\n",
    "        if not root: return\n",
    "        if get_G_t(root) == self.alpha: \n",
    "            self.cut_node = root\n",
    "        self.pre_order(root.left)\n",
    "        self.pre_order(root.right)"
   ]
  },
  {
   "cell_type": "code",
   "execution_count": 15,
   "metadata": {},
   "outputs": [],
   "source": [
    "x_train,y_train = loadData('../input/mnist_train.csv')\n",
    "x_val,y_val = loadData('../input/mnist_test.csv')"
   ]
  },
  {
   "cell_type": "code",
   "execution_count": 17,
   "metadata": {},
   "outputs": [
    {
     "name": "stdout",
     "output_type": "stream",
     "text": [
      "Start to build the tree...\n",
      "Building the tree costs 537.59\n"
     ]
    }
   ],
   "source": [
    "start = time.time()\n",
    "print(\"Start to build the tree...\")\n",
    "root = build_Tree(x_train[:50000],y_train[:50000],[i for i in range(784)],10,0.01)\n",
    "print(\"Building the tree costs {:.2f}\".format(time.time() - start))"
   ]
  },
  {
   "cell_type": "code",
   "execution_count": 20,
   "metadata": {},
   "outputs": [
    {
     "name": "stdout",
     "output_type": "stream",
     "text": [
      "Accuracy of train dataset is 0.9460\n",
      "Accuracy of val dataset is 0.8654\n",
      "Accuracy of test dataset is 0.8560\n"
     ]
    }
   ],
   "source": [
    "acc_train = test(x_train[:50000],y_train[:50000],root)\n",
    "print(\"Accuracy of train dataset is {:.4f}\".format(acc_train))\n",
    "acc_validation = test(x_train[50000:],y_train[50000:],root)\n",
    "print(\"Accuracy of val dataset is {:.4f}\".format(acc_validation))\n",
    "acc_test = test(x_val,y_val,root)\n",
    "print(\"Accuracy of test dataset is {:.4f}\".format(acc_test))"
   ]
  },
  {
   "cell_type": "code",
   "execution_count": 21,
   "metadata": {},
   "outputs": [
    {
     "name": "stdout",
     "output_type": "stream",
     "text": [
      "The tree contains 5299 nodes\n"
     ]
    }
   ],
   "source": [
    "print(\"The tree contains {} nodes\".format(get_nodes_num(root)))"
   ]
  },
  {
   "cell_type": "code",
   "execution_count": 25,
   "metadata": {},
   "outputs": [
    {
     "name": "stdout",
     "output_type": "stream",
     "text": [
      "Start to cut tree...\n"
     ]
    },
    {
     "name": "stderr",
     "output_type": "stream",
     "text": [
      "C:\\ProgramData\\Anaconda3\\lib\\site-packages\\ipykernel_launcher.py:4: RuntimeWarning: invalid value encountered in double_scalars\n",
      "  after removing the cwd from sys.path.\n"
     ]
    },
    {
     "name": "stdout",
     "output_type": "stream",
     "text": [
      "Cutting the tree costs 1765.99\n"
     ]
    }
   ],
   "source": [
    "cut = cut_Tree(root)\n",
    "start_cut = time.time()\n",
    "print(\"Start to cut tree...\")\n",
    "cut.get_trees(root)\n",
    "print(\"Cutting the tree costs {:.2f}\".format(time.time() - start_cut))"
   ]
  },
  {
   "cell_type": "code",
   "execution_count": 26,
   "metadata": {},
   "outputs": [
    {
     "name": "stdout",
     "output_type": "stream",
     "text": [
      "The last tree contains 2541 nodes\n"
     ]
    }
   ],
   "source": [
    "print(\"The last tree contains {} nodes\".format(get_nodes_num(cut.trees[-1])))"
   ]
  },
  {
   "cell_type": "code",
   "execution_count": 27,
   "metadata": {},
   "outputs": [],
   "source": [
    "acc_val = float(\"-inf\")\n",
    "tree_res = None\n",
    "for tree in cut.trees:\n",
    "    if acc_val < test(x_train[50000:],y_train[50000:],tree):\n",
    "        acc_val = test(x_train[50000:],y_train[50000:],tree)\n",
    "        tree_res = tree"
   ]
  },
  {
   "cell_type": "code",
   "execution_count": 28,
   "metadata": {},
   "outputs": [
    {
     "name": "stdout",
     "output_type": "stream",
     "text": [
      "The res tree contains 3319 nodes\n"
     ]
    }
   ],
   "source": [
    "print(\"The res tree contains {} nodes\".format(get_nodes_num(tree_res)))"
   ]
  },
  {
   "cell_type": "code",
   "execution_count": 29,
   "metadata": {},
   "outputs": [
    {
     "name": "stdout",
     "output_type": "stream",
     "text": [
      "Accuracy of train dataset is 0.9307\n",
      "Accuracy of val dataset is 0.8684\n",
      "Accuracy of test dataset is 0.8609\n"
     ]
    }
   ],
   "source": [
    "acc_train = test(x_train[:50000],y_train[:50000],tree_res)\n",
    "print(\"Accuracy of train dataset is {:.4f}\".format(acc_train))\n",
    "acc_validation = test(x_train[50000:],y_train[50000:],tree_res)\n",
    "print(\"Accuracy of val dataset is {:.4f}\".format(acc_validation))\n",
    "acc_test = test(x_val,y_val,tree_res)\n",
    "print(\"Accuracy of test dataset is {:.4f}\".format(acc_test))"
   ]
  },
  {
   "cell_type": "code",
   "execution_count": null,
   "metadata": {},
   "outputs": [],
   "source": []
  }
 ],
 "metadata": {
  "kernelspec": {
   "display_name": "Python 3",
   "language": "python",
   "name": "python3"
  },
  "language_info": {
   "codemirror_mode": {
    "name": "ipython",
    "version": 3
   },
   "file_extension": ".py",
   "mimetype": "text/x-python",
   "name": "python",
   "nbconvert_exporter": "python",
   "pygments_lexer": "ipython3",
   "version": "3.7.3"
  }
 },
 "nbformat": 4,
 "nbformat_minor": 2
}

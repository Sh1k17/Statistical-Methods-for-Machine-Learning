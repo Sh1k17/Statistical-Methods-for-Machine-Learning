{
 "cells": [
  {
   "cell_type": "code",
   "execution_count": 1,
   "metadata": {},
   "outputs": [],
   "source": [
    "import numpy as np\n",
    "import time\n",
    "import random"
   ]
  },
  {
   "cell_type": "code",
   "execution_count": 2,
   "metadata": {},
   "outputs": [],
   "source": [
    "class EM:\n",
    "    def __init__(self,dataset_size,epochs,mu0 = -2,sigma0 = 0.5,alpha0 = 0.3,mu1 = 0.5,sigma1 = 1,alpha1 = 0.7):\n",
    "        self.mu0 = mu0\n",
    "        self.sigma0 = sigma0\n",
    "        self.alpha0 = alpha0\n",
    "        self.mu1 = mu1\n",
    "        self.sigma1 = sigma1\n",
    "        self.alpha1 = alpha1\n",
    "        self.dataset_size = dataset_size\n",
    "        self.epochs = epochs\n",
    "        self.dataset = self.loadData(mu0 = mu0,sigma0 = sigma0,alpha0 = alpha0,mu1 = mu1,sigma1 = sigma1,alpha1 = alpha1,\\\n",
    "                                     dataset_size= self.dataset_size)\n",
    "    \n",
    "    def loadData(self,mu0,sigma0,alpha0,mu1,sigma1,alpha1,dataset_size):\n",
    "        raw_dataset_1 = np.random.normal(mu0,sigma0,int(dataset_size * alpha0))\n",
    "        raw_dataset_2 = np.random.normal(mu1,sigma1,int(dataset_size * alpha1))\n",
    "        dataset = np.append(raw_dataset_1,raw_dataset_2)\n",
    "        np.random.shuffle(dataset)\n",
    "        return dataset\n",
    "    \n",
    "    def get_gamma_j_k(self,mu,sigma,dataset,alpha):\n",
    "        return 1 / (np.sqrt(np.pi * 2) * sigma) * np.exp(-1 * np.square(dataset - mu) / 2 / sigma ** 2)\n",
    "    \n",
    "    def E_step(self,mu0,sigma0,alpha0,mu1,sigma1,alpha1):\n",
    "        gamma_1_old = alpha0 * self.get_gamma_j_k(mu0,sigma0,self.dataset,alpha0)\n",
    "        gamma_2_old = alpha1 * self.get_gamma_j_k(mu1,sigma1,self.dataset,alpha1)\n",
    "        \n",
    "        gamma_1_new = gamma_1_old / (gamma_1_old + gamma_2_old)\n",
    "        gamma_2_new = gamma_2_old / (gamma_1_old + gamma_2_old)\n",
    "        return gamma_1_new,gamma_2_new\n",
    "    \n",
    "    def M_step(self,mu0,mu1,gamma_1,gamma_2):\n",
    "        mu0_new = np.sum(np.dot(gamma_1,self.dataset)) / np.sum(gamma_1)\n",
    "        mu1_new = np.sum(np.dot(gamma_2,self.dataset)) / np.sum(gamma_2)\n",
    "        \n",
    "        sigma0_new = np.sqrt(np.sum(np.dot(gamma_1,np.square(self.dataset - mu0))) / np.sum(gamma_1))\n",
    "        sigma1_new = np.sqrt(np.sum(np.dot(gamma_2,np.square(self.dataset - mu1))) / np.sum(gamma_2))\n",
    "        \n",
    "        alpha0 = np.sum(gamma_1) / gamma_1.shape[0]\n",
    "        alpha1 = np.sum(gamma_2) / gamma_2.shape[0]\n",
    "        return mu0_new,sigma0_new,alpha0,mu1_new,sigma1_new,alpha1\n",
    "    \n",
    "    def fit(self,mu0,sigma0,alpha0,mu1,sigma1,alpha1):\n",
    "        print(\"Initial parameters set:\")\n",
    "        print(\"mu0:{:.2f} sigma0:{:.2f} alpha0:{:.2f} mu1:{:.2f} sigma1:{:.2f} alpha1:{:.2f} \\n\".format( \\\n",
    "               mu0,sigma0,alpha0,mu1,sigma1,alpha1))\n",
    "        print(\"Original parameters set:\")\n",
    "        print(\"mu0:{:.2f} sigma0:{:.2f} alpha0:{:.2f} mu1:{:.2f} sigma1:{:.2f} alpha1:{:.2f} \\n\".format( \\\n",
    "               self.mu0,self.sigma0,self.alpha0,self.mu1,self.sigma1,self.alpha1))\n",
    "\n",
    "        for epoch in range(self.epochs):\n",
    "            gamma_1,gamma_2 = self.E_step(mu0,sigma0,alpha0,mu1,sigma1,alpha1)\n",
    "            mu0,sigma0,alpha0,mu1,sigma1,alpha1 = self.M_step(mu0,mu1,gamma_1,gamma_2)\n",
    "        print(\"After training,the parameters set:\")\n",
    "        print(\"mu0:{:.2f} sigma0:{:.2f} alpha0:{:.2f} mu1:{:.2f} sigma1:{:.2f} alpha1:{:.2f}\".format( \\\n",
    "               mu0,sigma0,alpha0,mu1,sigma1,alpha1))"
   ]
  },
  {
   "cell_type": "code",
   "execution_count": 3,
   "metadata": {},
   "outputs": [],
   "source": [
    "model = EM(dataset_size=10000,epochs=10000)"
   ]
  },
  {
   "cell_type": "code",
   "execution_count": 4,
   "metadata": {},
   "outputs": [
    {
     "name": "stdout",
     "output_type": "stream",
     "text": [
      "Initial parameters set:\n",
      "mu0:0.00 sigma0:1.00 alpha0:0.50 mu1:1.00 sigma1:1.00 alpha1:0.50 \n",
      "\n",
      "Original parameters set:\n",
      "mu0:-2.00 sigma0:0.50 alpha0:0.30 mu1:0.50 sigma1:1.00 alpha1:0.70 \n",
      "\n",
      "After training,the parameters set:\n",
      "mu0:-2.02 sigma0:0.48 alpha0:0.30 mu1:0.49 sigma1:1.01 alpha1:0.70\n"
     ]
    }
   ],
   "source": [
    "model.fit(0,1,0.5,1,1,0.5)"
   ]
  },
  {
   "cell_type": "code",
   "execution_count": null,
   "metadata": {},
   "outputs": [],
   "source": []
  }
 ],
 "metadata": {
  "kernelspec": {
   "display_name": "Python 3",
   "language": "python",
   "name": "python3"
  },
  "language_info": {
   "codemirror_mode": {
    "name": "ipython",
    "version": 3
   },
   "file_extension": ".py",
   "mimetype": "text/x-python",
   "name": "python",
   "nbconvert_exporter": "python",
   "pygments_lexer": "ipython3",
   "version": "3.7.3"
  }
 },
 "nbformat": 4,
 "nbformat_minor": 2
}

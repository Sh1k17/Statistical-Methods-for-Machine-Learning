{
 "cells": [
  {
   "cell_type": "code",
   "execution_count": 1,
   "metadata": {},
   "outputs": [],
   "source": [
    "import numpy as np\n",
    "import time"
   ]
  },
  {
   "cell_type": "code",
   "execution_count": 2,
   "metadata": {},
   "outputs": [],
   "source": [
    "class HMM:\n",
    "    def __init__(self,A,B,Pi,O):\n",
    "        self.A = A\n",
    "        self.B = B\n",
    "        self.Pi = Pi\n",
    "        self.O = O\n",
    "        self.N = self.A.shape[0]\n",
    "        self.M = self.B.shape[1]\n",
    "        self.T = self.O.shape[0]\n",
    "    \n",
    "    def forward(self,):\n",
    "        alpha = np.zeros((self.T,self.N))\n",
    "        for i in range(self.N):\n",
    "            alpha[0,i] = self.Pi[i] * self.B[i,self.O[0]]\n",
    "        for t in range(self.T - 1):\n",
    "            for i in range(self.N):\n",
    "                alpha[t + 1,i] = self.B[i,self.O[t + 1]] * np.dot(alpha[t],self.A[:,i])\n",
    "        Polambda = np.sum(alpha[self.T - 1])\n",
    "        return alpha,Polambda\n",
    "    \n",
    "    def backward(self,):\n",
    "        beta = np.zeros((self.T,self.N))\n",
    "        for i in range(self.N):\n",
    "            beta[self.T - 1,i] = 1\n",
    "        for t in range(self.T - 2,-1,-1):\n",
    "            for i in range(self.N):\n",
    "                beta[t,i] = np.dot(self.A[i]*self.B[:,self.O[t + 1]],beta[t + 1])\n",
    "        Polambda = np.dot(self.B[:,self.O[0]] * beta[0],self.Pi)\n",
    "        return beta,Polambda\n",
    "    \n",
    "    def cal_gamma(self,alpha,beta):\n",
    "        gamma = np.zeros((self.T,self.N))\n",
    "        for t in range(self.T):\n",
    "            for i in range(self.N):\n",
    "                gamma[t,i] = alpha[t,i] * beta[t,i] / np.dot(alpha[t],beta[t])\n",
    "        return gamma\n",
    "    \n",
    "    def cal_xi(self,alpha,beta):\n",
    "        xi = np.zeros((self.T - 1,self.N,self.N))\n",
    "        for t in range(self.T - 1):\n",
    "            for i in range(self.N):\n",
    "                for j in range(self.N):\n",
    "                    numerator = alpha[t,i] * self.A[i,j] * self.B[j,self.O[t+1]] * beta[t+1,j]\n",
    "                    denominator = sum( sum(     \n",
    "                        alpha[t,i1] * self.A[i1,j1] * self.B[j1,self.O[t+1]] * beta[t+1,j1] \n",
    "                        for j1 in range(self.N) )   # the second sum\n",
    "                        for i1 in range(self.N) )    # the first sum\n",
    "                    xi[t,i,j] = numerator / denominator\n",
    "        return xi\n",
    "    \n",
    "    def Baum_Welch(self,):\n",
    "        \n",
    "        self.A = np.array([[0.5,0.2,0.3],[0.3,0.5,0.2],[0.2,0.3,0.5]])\n",
    "        self.B = np.array([[0.5,0.5],[0.4,0.6],[0.7,0.3]])\n",
    "        self.Pi = np.array([0.2,0.4,0.4])\n",
    "        \n",
    "        \n",
    "#         self.A = np.array([[1/3,1/3,1/3],[1/3,1/3,1/3],[1/3,1/3,1/3]])\n",
    "#         self.B = np.array([[0.5,0.5],[0.5,0.5],[0.5,0.5]])\n",
    "#         self.Pi = np.array([1/3,1/3,1/3])\n",
    "        print(self.A)\n",
    "        print(self.B)\n",
    "        print(self.Pi)\n",
    "        V = [k for k in range(self.M)]\n",
    "        times = 0\n",
    "        while times <= 500:\n",
    "            alpha,Polambda = self.forward()\n",
    "            beta,Polambda = self.backward()\n",
    "            gamma = self.cal_gamma(alpha,beta)\n",
    "            xi = self.cal_xi(alpha,beta)\n",
    "            \n",
    "            for i in range(self.N):\n",
    "                for j in range(self.N):\n",
    "                    numerator = sum(xi[t,i,j] for t in range(self.T-1))\n",
    "                    denominator = sum(gamma[t,i] for t in range(self.T-1))\n",
    "                    self.A[i, j] = numerator / denominator\n",
    "                    \n",
    "            for j in range(self.N):\n",
    "                sum_ = np.sum(gamma[:,j])\n",
    "                for k in range(self.M):\n",
    "                    numerator = sum(gamma[t,j] for t in range(self.T) if self.O[t] == V[k]) \n",
    "                    self.B[j,k] = numerator / sum_\n",
    "            \n",
    "            for i in range(self.N):\n",
    "                self.Pi[i] = gamma[0,i]\n",
    "            times += 1\n",
    "        print(self.A)\n",
    "        print(self.B)\n",
    "        print(self.Pi)\n",
    "        return self.A,self.B,self.Pi\n",
    "    \n",
    "    def viterbi(self,):\n",
    "        delta = np.zeros((self.T,self.N))\n",
    "        psi = np.zeros((self.T,self.N))\n",
    "        I = np.zeros(self.T,np.int)\n",
    "        for i in range(self.N):\n",
    "            delta[0,i] = self.Pi[i] * self.B[i,self.O[0]]\n",
    "        for t in range(1,self.T):\n",
    "            for i in range(self.N):\n",
    "                delta[t,i] = (self.B[i,self.O[t]] * delta[t - 1] * self.A[:,i]).max()\n",
    "                psi[t,i] = (delta[t - 1] * self.A[:,i]).argmax()\n",
    "        P_T = delta[self.T - 1].max()\n",
    "        I[self.T - 1] = delta[self.T - 1].argmax()\n",
    "        for t in range(self.T - 2,-1,-1):\n",
    "            I[t] = psi[t + 1,I[t + 1]]\n",
    "        return I"
   ]
  },
  {
   "cell_type": "code",
   "execution_count": 3,
   "metadata": {},
   "outputs": [],
   "source": [
    "A = np.array([[0.5,0.2,0.3],[0.3,0.5,0.2],[0.2,0.3,0.5]])\n",
    "B = np.array([[0.5,0.5],[0.4,0.6],[0.7,0.3]])\n",
    "Pi = np.array([0.2,0.4,0.4])\n",
    "O = np.array([0,1,0])"
   ]
  },
  {
   "cell_type": "code",
   "execution_count": 4,
   "metadata": {},
   "outputs": [],
   "source": [
    "model = HMM(A,B,Pi,O)"
   ]
  },
  {
   "cell_type": "code",
   "execution_count": 5,
   "metadata": {},
   "outputs": [
    {
     "data": {
      "text/plain": [
       "(array([[0.1     , 0.16    , 0.28    ],\n",
       "        [0.077   , 0.1104  , 0.0606  ],\n",
       "        [0.04187 , 0.035512, 0.052836]]), 0.130218)"
      ]
     },
     "execution_count": 5,
     "metadata": {},
     "output_type": "execute_result"
    }
   ],
   "source": [
    "a = model.forward()\n",
    "a"
   ]
  },
  {
   "cell_type": "code",
   "execution_count": 6,
   "metadata": {},
   "outputs": [
    {
     "data": {
      "text/plain": [
       "(array([[0.2451, 0.2622, 0.2277],\n",
       "        [0.54  , 0.49  , 0.57  ],\n",
       "        [1.    , 1.    , 1.    ]]), 0.130218)"
      ]
     },
     "execution_count": 6,
     "metadata": {},
     "output_type": "execute_result"
    }
   ],
   "source": [
    "b = model.backward()\n",
    "b"
   ]
  },
  {
   "cell_type": "code",
   "execution_count": 7,
   "metadata": {},
   "outputs": [
    {
     "data": {
      "text/plain": [
       "array([2, 2, 2])"
      ]
     },
     "execution_count": 7,
     "metadata": {},
     "output_type": "execute_result"
    }
   ],
   "source": [
    "v = model.viterbi()\n",
    "v"
   ]
  },
  {
   "cell_type": "code",
   "execution_count": 8,
   "metadata": {},
   "outputs": [
    {
     "name": "stdout",
     "output_type": "stream",
     "text": [
      "[[0.5 0.2 0.3]\n",
      " [0.3 0.5 0.2]\n",
      " [0.2 0.3 0.5]]\n",
      "[[0.5 0.5]\n",
      " [0.4 0.6]\n",
      " [0.7 0.3]]\n",
      "[0.2 0.4 0.4]\n",
      "[[0.         0.         1.        ]\n",
      " [0.         0.         1.        ]\n",
      " [0.56565874 0.43434126 0.        ]]\n",
      "[[0. 1.]\n",
      " [0. 1.]\n",
      " [1. 0.]]\n",
      "[0. 0. 1.]\n"
     ]
    },
    {
     "data": {
      "text/plain": [
       "(array([[0.        , 0.        , 1.        ],\n",
       "        [0.        , 0.        , 1.        ],\n",
       "        [0.56565874, 0.43434126, 0.        ]]), array([[0., 1.],\n",
       "        [0., 1.],\n",
       "        [1., 0.]]), array([0., 0., 1.]))"
      ]
     },
     "execution_count": 8,
     "metadata": {},
     "output_type": "execute_result"
    }
   ],
   "source": [
    "model.Baum_Welch()"
   ]
  },
  {
   "cell_type": "code",
   "execution_count": null,
   "metadata": {},
   "outputs": [],
   "source": []
  }
 ],
 "metadata": {
  "kernelspec": {
   "display_name": "Python 3",
   "language": "python",
   "name": "python3"
  },
  "language_info": {
   "codemirror_mode": {
    "name": "ipython",
    "version": 3
   },
   "file_extension": ".py",
   "mimetype": "text/x-python",
   "name": "python",
   "nbconvert_exporter": "python",
   "pygments_lexer": "ipython3",
   "version": "3.7.3"
  }
 },
 "nbformat": 4,
 "nbformat_minor": 2
}

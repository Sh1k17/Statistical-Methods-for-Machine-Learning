{
 "cells": [
  {
   "cell_type": "code",
   "execution_count": 1,
   "metadata": {},
   "outputs": [],
   "source": [
    "import numpy as np\n",
    "import time"
   ]
  },
  {
   "cell_type": "code",
   "execution_count": 2,
   "metadata": {},
   "outputs": [],
   "source": [
    "def loadData(filename):\n",
    "    fr = open(filename,'r')\n",
    "    \n",
    "    x,y = [],[]\n",
    "    \n",
    "    for line in fr.readlines():\n",
    "        curline = line.strip().split(',')\n",
    "        \n",
    "        x.append([int(num) for num in curline[1:]])\n",
    "        y.append(int(curline[0]))\n",
    "    \n",
    "    return x,y"
   ]
  },
  {
   "cell_type": "code",
   "execution_count": 3,
   "metadata": {},
   "outputs": [],
   "source": [
    "def cal_dict(x1,x2):\n",
    "    \n",
    "    assert len(x1) == len(x2)\n",
    "    \n",
    "    return np.sqrt(np.sum(np.square(x1 - x2)))"
   ]
  },
  {
   "cell_type": "code",
   "execution_count": 4,
   "metadata": {},
   "outputs": [],
   "source": [
    "def get_topK(x_train,y_train,x_test,K):\n",
    "    dict = []\n",
    "    for x in x_train:\n",
    "        dict.append(cal_dict(x,x_test))\n",
    "        \n",
    "    idxs = np.array(dict).argsort()[:K]\n",
    "    \n",
    "    labels = []\n",
    "    \n",
    "    for idx in idxs:\n",
    "        labels.append(y_train[idx])\n",
    "        \n",
    "    return labels"
   ]
  },
  {
   "cell_type": "code",
   "execution_count": 7,
   "metadata": {},
   "outputs": [],
   "source": [
    "def test(x_train,y_train,x_val,y_val,K):\n",
    "    \n",
    "    x_train_mat = np.mat(x_train)\n",
    "    x_val_mat = np.mat(x_val)\n",
    "   \n",
    "    correct = 0\n",
    "    \n",
    "    for i in range(len(x_val)):\n",
    "        pred_labels = get_topK(x_train_mat,y_train,x_val_mat[i],K)\n",
    "        pred_label = max(pred_labels,key = pred_labels.count)\n",
    "        if pred_label == y_val[i]:\n",
    "            correct += 1\n",
    "    return correct / len(x_val)"
   ]
  },
  {
   "cell_type": "code",
   "execution_count": 8,
   "metadata": {},
   "outputs": [
    {
     "name": "stdout",
     "output_type": "stream",
     "text": [
      "Time of training consumes:12361.84 Accuracy is:0.96\n"
     ]
    }
   ],
   "source": [
    "x_train,y_train = loadData('../input/mnist_train.csv')\n",
    "x_val,y_val = loadData('../input/mnist_test.csv')\n",
    "start = time.time()\n",
    "acc = test(x_train,y_train,x_val,y_val,25)\n",
    "print(\"Time of training consumes:{:.2f} Accuracy is:{:.2f}\".format(time.time() - start , acc))"
   ]
  },
  {
   "cell_type": "code",
   "execution_count": null,
   "metadata": {},
   "outputs": [],
   "source": [
    "#Time of training consumes:12361.84 Accuracy is:0.96"
   ]
  }
 ],
 "metadata": {
  "kernelspec": {
   "display_name": "Python 3",
   "language": "python",
   "name": "python3"
  },
  "language_info": {
   "codemirror_mode": {
    "name": "ipython",
    "version": 3
   },
   "file_extension": ".py",
   "mimetype": "text/x-python",
   "name": "python",
   "nbconvert_exporter": "python",
   "pygments_lexer": "ipython3",
   "version": "3.7.3"
  }
 },
 "nbformat": 4,
 "nbformat_minor": 2
}

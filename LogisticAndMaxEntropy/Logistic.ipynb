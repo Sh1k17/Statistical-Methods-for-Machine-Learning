{
 "cells": [
  {
   "cell_type": "code",
   "execution_count": 1,
   "metadata": {},
   "outputs": [],
   "source": [
    "import numpy as np\n",
    "import time"
   ]
  },
  {
   "cell_type": "code",
   "execution_count": 2,
   "metadata": {},
   "outputs": [],
   "source": [
    "def load_Data(filename):\n",
    "    fr = open(filename,'r')\n",
    "    x,y = [],[]\n",
    "    for line in fr.readlines():\n",
    "        curline = line.strip().split(',')\n",
    "        x.append([int(num) / 255 for num in curline[1:]] + [1])\n",
    "        y.append(1 if int(curline[0]) <= 4 else 0)\n",
    "    x = np.array(x)\n",
    "    y = np.array(y)\n",
    "    return x,y "
   ]
  },
  {
   "cell_type": "code",
   "execution_count": 3,
   "metadata": {},
   "outputs": [],
   "source": [
    "def logisticRegression(x_train,y_train,epochs):\n",
    "    lr = 1e-3\n",
    "    w = np.zeros(x_train.shape[1])\n",
    "    for epoch in range(epochs):\n",
    "        for i in range(x_train.shape[0]):\n",
    "            w_x = np.exp(np.dot(w,x_train[i]))\n",
    "            w += (x_train[i] * y_train[i] - x_train[i] * w_x / (1 + w_x)) * lr\n",
    "    return w"
   ]
  },
  {
   "cell_type": "code",
   "execution_count": 4,
   "metadata": {},
   "outputs": [],
   "source": [
    "def predict(x,w):\n",
    "    w_x = np.exp(np.dot(x,w))\n",
    "    prob = w_x / (1 + w_x)\n",
    "    return 1 if prob >= 0.5 else 0"
   ]
  },
  {
   "cell_type": "code",
   "execution_count": 5,
   "metadata": {},
   "outputs": [],
   "source": [
    "def test(x_val,y_val,w):\n",
    "    correct = 0\n",
    "    for i in range(x_val.shape[0]):\n",
    "        label = predict(x_val[i],w)\n",
    "        if label == y_val[i]:correct += 1\n",
    "    return correct / x_val.shape[0]"
   ]
  },
  {
   "cell_type": "code",
   "execution_count": 6,
   "metadata": {},
   "outputs": [],
   "source": [
    "x_train,y_train = load_Data('../input/mnist_train.csv')\n",
    "x_val,y_val = load_Data('../input/mnist_test.csv')"
   ]
  },
  {
   "cell_type": "code",
   "execution_count": 7,
   "metadata": {},
   "outputs": [
    {
     "name": "stdout",
     "output_type": "stream",
     "text": [
      "Start to train...\n",
      "Training costs 154.03 seconds\n"
     ]
    }
   ],
   "source": [
    "start = time.time()\n",
    "print(\"Start to train...\")\n",
    "w = logisticRegression(x_train,y_train,200)\n",
    "print(\"Training costs {:.2f} seconds\".format(time.time() - start))"
   ]
  },
  {
   "cell_type": "code",
   "execution_count": 8,
   "metadata": {},
   "outputs": [],
   "source": [
    "acc_train = test(x_train,y_train,w)\n",
    "acc_val = test(x_val,y_val,w)"
   ]
  },
  {
   "cell_type": "code",
   "execution_count": 9,
   "metadata": {},
   "outputs": [
    {
     "name": "stdout",
     "output_type": "stream",
     "text": [
      "Accuracy of train dataset is 0.8713\n",
      "Accuracy of test dataset is 0.8712\n"
     ]
    }
   ],
   "source": [
    "print(\"Accuracy of train dataset is {:.4f}\".format(acc_train))\n",
    "print(\"Accuracy of test dataset is {:.4f}\".format(acc_val))"
   ]
  },
  {
   "cell_type": "code",
   "execution_count": null,
   "metadata": {},
   "outputs": [],
   "source": []
  }
 ],
 "metadata": {
  "kernelspec": {
   "display_name": "Python 3",
   "language": "python",
   "name": "python3"
  },
  "language_info": {
   "codemirror_mode": {
    "name": "ipython",
    "version": 3
   },
   "file_extension": ".py",
   "mimetype": "text/x-python",
   "name": "python",
   "nbconvert_exporter": "python",
   "pygments_lexer": "ipython3",
   "version": "3.7.3"
  }
 },
 "nbformat": 4,
 "nbformat_minor": 2
}

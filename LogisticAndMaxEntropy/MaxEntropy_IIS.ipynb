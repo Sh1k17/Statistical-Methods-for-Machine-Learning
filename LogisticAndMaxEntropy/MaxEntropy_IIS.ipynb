{
 "cells": [
  {
   "cell_type": "code",
   "execution_count": 1,
   "metadata": {},
   "outputs": [],
   "source": [
    "import time\n",
    "import numpy as np\n",
    "from collections import defaultdict,Counter"
   ]
  },
  {
   "cell_type": "code",
   "execution_count": 2,
   "metadata": {},
   "outputs": [],
   "source": [
    "def loadData(filename):\n",
    "    fr = open(filename,'r')\n",
    "    x,y = [],[]\n",
    "    for line in fr.readlines():\n",
    "        curline = line.strip().split(',')\n",
    "        if int(curline[0]) == 0 or int(curline[0]) == 1:\n",
    "            x.append([int(int(num) >= 128) for num in curline[1:]])\n",
    "            y.append(int(curline[0]))\n",
    "    x = np.array(x)\n",
    "    y = np.array(y)\n",
    "    return x,y"
   ]
  },
  {
   "cell_type": "code",
   "execution_count": 3,
   "metadata": {},
   "outputs": [],
   "source": [
    "class MaxEntropy_IIS:\n",
    "    def __init__(self,x_train,y_train,x_val,y_val):\n",
    "        self.x_train = x_train\n",
    "        self.y_train = y_train\n",
    "        self.x_val = x_val\n",
    "        self.y_val = y_val\n",
    "        self.label_num = 2\n",
    "        self.id2key,self.key2id,self.empir_dist = self.get_Empirical_Distribution()\n",
    "        self.empir_dist = np.array(list(self.empir_dist.values()))\n",
    "        self.w = np.zeros(self.empir_dist.shape[0])\n",
    "\n",
    "    def get_Empirical_Distribution(self,):\n",
    "        E = defaultdict(int)\n",
    "        id2key,key2id = {},{}\n",
    "        for i in range(self.x_train.shape[0]):\n",
    "            for j in range(self.x_train.shape[1]):\n",
    "                if (j,self.x_train[i][j],self.y_train[i]) not in key2id:\n",
    "                    id2key[len(id2key)] = (j,self.x_train[i][j],self.y_train[i])\n",
    "                    key2id[(j,self.x_train[i][j],self.y_train[i])] = len(key2id)\n",
    "                E[key2id[(j,self.x_train[i][j],self.y_train[i])]] += 1 / self.x_train.shape[0]\n",
    "        return id2key,key2id,E\n",
    "        \n",
    "    def get_Model_Distribution(self,):\n",
    "        E = np.zeros(self.empir_dist.shape[0])\n",
    "        for i in range(self.x_train.shape[0]):\n",
    "            P = [self.get_Conditional_Probability(self.x_train[i],label) for label in range(self.label_num)]\n",
    "            for j in range(self.x_train.shape[1]):\n",
    "                for label in range(self.label_num):\n",
    "                    if (j,self.x_train[i][j],label) in self.key2id:\n",
    "                        E[self.key2id[(j,self.x_train[i][j],label)]] += 1/self.x_train.shape[0] * P[label]\n",
    "        return E\n",
    "        \n",
    "    def get_Conditional_Probability(self,x,y):\n",
    "        z,Z = 0,0\n",
    "        for i in range(self.x_train.shape[1]):\n",
    "            if (i,x[i],y) in self.key2id:\n",
    "                z += self.w[self.key2id[(i,x[i],y)]]\n",
    "        for label in range(self.label_num):\n",
    "            sum_ = 0\n",
    "            for i in range(self.x_train.shape[1]):\n",
    "                if (i,x[i],label) in self.key2id:\n",
    "                    sum_ += self.w[self.key2id[(i,x[i],label)]]\n",
    "            Z += np.exp(sum_)\n",
    "        z = np.exp(z)\n",
    "        return z / Z\n",
    "    \n",
    "    def fit(self,epochs):\n",
    "        M = np.sum(self.empir_dist) * self.x_train.shape[0]\n",
    "        for epoch in range(epochs):\n",
    "            start = time.time()\n",
    "            E = self.get_Model_Distribution()\n",
    "            sigma = [0] * len(self.w)\n",
    "            for i in range(len(sigma)):\n",
    "                sigma[i] = 1 / M * np.log(self.empir_dist[i] / E[i])\n",
    "            self.w = [self.w[idx] + sigma[idx] for idx in range(len(self.w))]\n",
    "#             if epoch % 10 == 9:\n",
    "            if True:\n",
    "                acc = self.test(self.x_train,self.y_train)\n",
    "                print(\"Epoch {} Time costs {:.2f} The accuracy {:.3f}\".format(epoch + 1,time.time() - start,acc))\n",
    "            else:\n",
    "                print(\"Epoch {} Time costs {:.2f}\".format(epoch + 1,time.time() - start))\n",
    "                \n",
    "    def test(self,x_val,y_val):\n",
    "        correct = 0\n",
    "        for i in range(x_val.shape[0]):\n",
    "            P = [self.get_Conditional_Probability(x_val[i],label) for label in range(self.label_num)]\n",
    "            idx = P.index(max(P))\n",
    "            if idx == y_val[i]: correct += 1\n",
    "        return correct / x_val.shape[0]"
   ]
  },
  {
   "cell_type": "code",
   "execution_count": 4,
   "metadata": {},
   "outputs": [],
   "source": [
    "x_train_mnist,y_train_mnist = loadData('../input/mnist_train.csv')\n",
    "x_val_mnist,y_val_mnist = loadData('../input/mnist_test.csv')"
   ]
  },
  {
   "cell_type": "code",
   "execution_count": 5,
   "metadata": {},
   "outputs": [
    {
     "data": {
      "text/plain": [
       "Counter({0: 5923, 1: 6742})"
      ]
     },
     "execution_count": 5,
     "metadata": {},
     "output_type": "execute_result"
    }
   ],
   "source": [
    "Counter(y_train_mnist)"
   ]
  },
  {
   "cell_type": "code",
   "execution_count": 6,
   "metadata": {},
   "outputs": [
    {
     "data": {
      "text/plain": [
       "Counter({1: 1135, 0: 980})"
      ]
     },
     "execution_count": 6,
     "metadata": {},
     "output_type": "execute_result"
    }
   ],
   "source": [
    "Counter(y_val_mnist)"
   ]
  },
  {
   "cell_type": "code",
   "execution_count": 7,
   "metadata": {},
   "outputs": [],
   "source": [
    "model = MaxEntropy_IIS(x_train_mnist,y_train_mnist,x_val_mnist,y_val_mnist)"
   ]
  },
  {
   "cell_type": "code",
   "execution_count": 8,
   "metadata": {},
   "outputs": [
    {
     "data": {
      "text/plain": [
       "0.46766679826292934"
      ]
     },
     "execution_count": 8,
     "metadata": {},
     "output_type": "execute_result"
    }
   ],
   "source": [
    "model.test(x_train_mnist,y_train_mnist)"
   ]
  },
  {
   "cell_type": "code",
   "execution_count": 9,
   "metadata": {},
   "outputs": [
    {
     "data": {
      "text/plain": [
       "0.46335697399527187"
      ]
     },
     "execution_count": 9,
     "metadata": {},
     "output_type": "execute_result"
    }
   ],
   "source": [
    "model.test(x_val_mnist,y_val_mnist)"
   ]
  },
  {
   "cell_type": "code",
   "execution_count": 10,
   "metadata": {
    "scrolled": true
   },
   "outputs": [
    {
     "name": "stdout",
     "output_type": "stream",
     "text": [
      "Epoch 1 Time costs 878.49 The accuracy 0.984\n"
     ]
    }
   ],
   "source": [
    "model.fit(1)"
   ]
  },
  {
   "cell_type": "code",
   "execution_count": 11,
   "metadata": {},
   "outputs": [
    {
     "data": {
      "text/plain": [
       "0.9839715752072641"
      ]
     },
     "execution_count": 11,
     "metadata": {},
     "output_type": "execute_result"
    }
   ],
   "source": [
    "model.test(x_train_mnist,y_train_mnist)"
   ]
  },
  {
   "cell_type": "code",
   "execution_count": 12,
   "metadata": {},
   "outputs": [
    {
     "data": {
      "text/plain": [
       "0.991016548463357"
      ]
     },
     "execution_count": 12,
     "metadata": {},
     "output_type": "execute_result"
    }
   ],
   "source": [
    "model.test(x_val_mnist,y_val_mnist)"
   ]
  }
 ],
 "metadata": {
  "kernelspec": {
   "display_name": "Python 3",
   "language": "python",
   "name": "python3"
  },
  "language_info": {
   "codemirror_mode": {
    "name": "ipython",
    "version": 3
   },
   "file_extension": ".py",
   "mimetype": "text/x-python",
   "name": "python",
   "nbconvert_exporter": "python",
   "pygments_lexer": "ipython3",
   "version": "3.7.3"
  }
 },
 "nbformat": 4,
 "nbformat_minor": 2
}

{
 "cells": [
  {
   "cell_type": "code",
   "execution_count": 1,
   "metadata": {},
   "outputs": [],
   "source": [
    "import numpy as np\n",
    "import time "
   ]
  },
  {
   "cell_type": "code",
   "execution_count": 2,
   "metadata": {},
   "outputs": [],
   "source": [
    "def loadData(filename):\n",
    "    fr = open(filename,'r')\n",
    "    x,y = [],[]\n",
    "    for line in fr.readlines():\n",
    "        curline = line.strip().split(',')\n",
    "        x.append([int(num) for num in curline[1:]])\n",
    "        y.append(int(curline[0]))  \n",
    "    x = np.array(x)\n",
    "    y = np.array(y)\n",
    "    return x,y"
   ]
  },
  {
   "cell_type": "code",
   "execution_count": 3,
   "metadata": {},
   "outputs": [],
   "source": [
    "def get_Lapsmoothing(x_train,y_train):\n",
    "    label_num = 10\n",
    "    dim = 784\n",
    "    colorway = 256\n",
    "    \n",
    "    P_x_y = np.zeros((label_num,dim,colorway))\n",
    "    P_y = np.zeros((10))\n",
    "    sum_label = np.zeros((10))\n",
    "    \n",
    "    for i in range(label_num):\n",
    "        sum_label[i] = np.sum(y_train == i)\n",
    "        P_y[i] = (sum_label[i] + 1) / (y_train.shape[0] + label_num)\n",
    "    P_y = np.log(P_y)\n",
    "    \n",
    "    for i in range(label_num):\n",
    "        label_i = x_train[y_train == i]\n",
    "        for j in range(dim):\n",
    "            for k in range(colorway):\n",
    "                P_x_y[i,j,k] = (np.sum(label_i[:,j] == k) + 1) / (sum_label[i] + colorway)                \n",
    "    P_x_y = np.log(P_x_y)\n",
    "\n",
    "    return P_x_y,P_y\n"
   ]
  },
  {
   "cell_type": "code",
   "execution_count": 4,
   "metadata": {},
   "outputs": [],
   "source": [
    "def predict(P_x_y,P_y,x):\n",
    "    label_num = 10\n",
    "    dim = 784\n",
    "    colorway = 256\n",
    "    p = np.zeros((10))\n",
    "    for i in range(label_num):\n",
    "        p[i] = P_y[i]\n",
    "        for j in range(dim):\n",
    "            p[i] += P_x_y[i][j][x[j]]\n",
    "    return np.argmax(p)"
   ]
  },
  {
   "cell_type": "code",
   "execution_count": 5,
   "metadata": {},
   "outputs": [],
   "source": [
    "def test(x_val,y_val,P_x_y,P_y):\n",
    "    start = time.time()    \n",
    "    correct = 0\n",
    "    size = x_val.shape[0]\n",
    "    for i in range(size):\n",
    "        pred = predict(P_x_y,P_y,x_val[i])\n",
    "        if pred == y_val[i]: correct += 1    \n",
    "    print(\"Time of training consumes:{:.2f} Accuracy is:{:.2f}\".format(time.time() - start , correct/size))\n",
    "    return correct/size"
   ]
  },
  {
   "cell_type": "code",
   "execution_count": 6,
   "metadata": {},
   "outputs": [
    {
     "name": "stdout",
     "output_type": "stream",
     "text": [
      "start to train...\n",
      "start to test...\n",
      "Time of training consumes:68.65 Accuracy is:0.84\n"
     ]
    }
   ],
   "source": [
    "x_train,y_train = loadData('../input/mnist_train.csv')\n",
    "x_val,y_val = loadData('../input/mnist_test.csv')\n",
    "print(\"start to train...\")\n",
    "P_x_y,P_y = get_Lapsmoothing(x_train,y_train)\n",
    "print(\"start to test...\")\n",
    "acc = test(x_val,y_val,P_x_y,P_y)"
   ]
  }
 ],
 "metadata": {
  "kernelspec": {
   "display_name": "Python 3",
   "language": "python",
   "name": "python3"
  },
  "language_info": {
   "codemirror_mode": {
    "name": "ipython",
    "version": 3
   },
   "file_extension": ".py",
   "mimetype": "text/x-python",
   "name": "python",
   "nbconvert_exporter": "python",
   "pygments_lexer": "ipython3",
   "version": "3.7.3"
  }
 },
 "nbformat": 4,
 "nbformat_minor": 2
}

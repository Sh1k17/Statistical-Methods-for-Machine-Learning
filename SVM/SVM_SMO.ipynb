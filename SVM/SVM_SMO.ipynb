{
 "cells": [
  {
   "cell_type": "code",
   "execution_count": 1,
   "metadata": {},
   "outputs": [],
   "source": [
    "import numpy as np\n",
    "import time\n",
    "import math\n",
    "import random"
   ]
  },
  {
   "cell_type": "code",
   "execution_count": 2,
   "metadata": {},
   "outputs": [],
   "source": [
    "def loadData(filename):\n",
    "    fr = open(filename,'r')\n",
    "    x,y = [],[]\n",
    "    for line in fr.readlines():\n",
    "        curline = line.strip().split(',')\n",
    "        if int(curline[0]) in [0,1]:\n",
    "            x.append([int(num) / 255 for num in curline[1:]])\n",
    "            if int(curline[0]) == 0:\n",
    "                y.append(1)\n",
    "            else:\n",
    "                y.append(-1)\n",
    "    x = np.array(x)\n",
    "    y = np.array(y)\n",
    "    return x,y"
   ]
  },
  {
   "cell_type": "code",
   "execution_count": 3,
   "metadata": {},
   "outputs": [],
   "source": [
    "class SVM:\n",
    "    def __init__(self,x_train,y_train,x_val,y_val):\n",
    "        self.x_train = x_train[:5000]\n",
    "        self.y_train = y_train[:5000]\n",
    "        self.x_val = x_val\n",
    "        self.y_val = y_val\n",
    "        self.m,n = self.x_train.shape\n",
    "        self.sigma = 10\n",
    "        self.k_matrix = self.cal_kernel()\n",
    "        self.alpha = np.zeros(self.m)\n",
    "        self.C = 200\n",
    "        self.b = 0 \n",
    "        self.E = np.zeros(self.m)\n",
    "        self.support_vector_index = []\n",
    "        \n",
    "        \n",
    "    def cal_kernel(self,):\n",
    "        k = np.zeros((self.m,self.m))\n",
    "        for i in range(self.m):\n",
    "            x = self.x_train[i,:]\n",
    "            for j in range(i,self.m):\n",
    "                z = self.x_train[j,:]\n",
    "                ans = np.linalg.norm(x - z,ord=2)\n",
    "                ans = np.exp(-1 * ans / (2 * self.sigma**2))\n",
    "            k[i,j] = ans\n",
    "            k[j,i] = ans\n",
    "        return k\n",
    "    \n",
    "    def satisfy_conditions(self,idx):\n",
    "        g = self.get_G_Function_i(idx)\n",
    "        y = self.y_train[idx]\n",
    "        if self.alpha[idx] > self.C or self.alpha[idx] < 0: return False\n",
    "        if self.alpha[idx] == 0: return y * g >= 1\n",
    "        if self.alpha[idx] == self.C: return y * g <= 1\n",
    "        if 0 < self.alpha[idx] < self.C: return y * g == 1\n",
    "        \n",
    "    def get_G_Function_i(self,idx):\n",
    "        sum_ = 0\n",
    "        for i in range(self.m):\n",
    "            sum_ += self.y_train[i] * self.alpha[i] * self.k_matrix[i,idx]\n",
    "        return sum_ + self.b\n",
    "    \n",
    "    def get_first_alpha(self,):\n",
    "        for i in range(self.m):\n",
    "            if 0 < self.alpha[i] < self.C and not self.satisfy_conditions(i):\n",
    "                return i\n",
    "        for i in range(self.m):\n",
    "            if not self.satisfy_conditions(i):\n",
    "                return i\n",
    "        \n",
    "    def get_second_alpha(self,idx):\n",
    "        for i in range(self.m):\n",
    "            self.E[i] = self.get_E_function_i(i)\n",
    "        idx_second = -1\n",
    "        ans = float('-inf')\n",
    "        for i in range(self.m):\n",
    "            if ans < np.abs(self.E[i] - self.E[idx]):\n",
    "                idx_second = i\n",
    "                ans = np.abs(self.E[i] - self.E[idx])\n",
    "        return idx_second\n",
    "    \n",
    "    def get_E_function_i(self,idx):\n",
    "        g = self.get_G_Function_i(idx)\n",
    "        return g - self.y_train[idx]\n",
    "    \n",
    "    def fit(self,epochs):\n",
    "        for epoch in range(epochs):\n",
    "            start = time.time()\n",
    "            idx_1 = self.get_first_alpha()\n",
    "            idx_2 = self.get_second_alpha(idx_1)\n",
    "            alpha_1 = self.alpha[idx_1]\n",
    "            alpha_2 = self.alpha[idx_2]\n",
    "            y_1 = self.y_train[idx_1]\n",
    "            y_2 = self.y_train[idx_2]\n",
    "            if y_1 == y_2:\n",
    "                L = max(0,alpha_2 + alpha_1 - self.C)\n",
    "                H = min(self.C,alpha_1 + alpha_2)\n",
    "            else:\n",
    "                L = max(0,alpha_2 - alpha_1)\n",
    "                H = min(self.C,self.C + alpha_2 - alpha_1)\n",
    "            \n",
    "            \n",
    "            K11 = self.k_matrix[idx_1,idx_1]\n",
    "            K12 = self.k_matrix[idx_1,idx_2]\n",
    "            K22 = self.k_matrix[idx_2,idx_2]\n",
    "            yita = K11 + K22 - 2 * K12\n",
    "            \n",
    "            alpha_2_new_unc = alpha_2 + y_2 * (self.E[idx_1] - self.E[idx_2]) / yita\n",
    "            if alpha_2_new_unc > H: alpha_2_new = H\n",
    "            elif  alpha_2_new_unc < L: alpha_2_new = L\n",
    "            else: alpha_2_new = alpha_2_new_unc    \n",
    "            alpha_1_new = alpha_1 + y_1 * y_2 * (alpha_2 - alpha_2_new)\n",
    "            b_1_new = -self.E[idx_1] - y_1 * K11 * (alpha_1_new - alpha_1) - y_2 * K12 *(alpha_2_new - alpha_2) + self.b\n",
    "            b_2_new = -self.E[idx_2] - y_1 * K12 * (alpha_1_new - alpha_1) - y_2 * K22 *(alpha_2_new - alpha_2) + self.b\n",
    "            \n",
    "            if 0 < alpha_1_new < self.C: b_new = b_1_new\n",
    "            elif 0 < alpha_2_new < self.C: b_new = b_2_new\n",
    "            else: b_new = (b_1_new + b_2_new) / 2\n",
    "                \n",
    "            self.alpha[idx_1] = alpha_1_new\n",
    "            self.alpha[idx_2] = alpha_2_new\n",
    "            self.b = b_new\n",
    "            self.E[idx_1] = self.get_E_function_i(idx_1)\n",
    "            self.E[idx_2] = self.get_E_function_i(idx_2)\n",
    "            print(\"Epoch {} costs {:.2f} seconds.\".format(epoch,time.time() - start))\n",
    "            \n",
    "        for i in range(self.m):\n",
    "            if self.alpha[i] > 0:\n",
    "                self.support_vector_index.append(i)\n",
    "            \n",
    "                \n",
    "    def cal_single_kernel(self,x,z):\n",
    "        ans = np.linalg.norm(x - z,ord=2)\n",
    "        ans = np.exp(-1 * ans / (2 * self.sigma**2))\n",
    "        return ans\n",
    "\n",
    "    def predict(self,x):\n",
    "        result = 0\n",
    "        for i in self.support_vector_index:\n",
    "            tmp = self.cal_single_kernel(self.x_train[i,:],x)\n",
    "            result += tmp * self.alpha[i] * self.y_train[i]\n",
    "        result += self.b\n",
    "        return np.sign(result)\n",
    "\n",
    "    def test(self,x_val,y_val):\n",
    "        correct = 0\n",
    "        for i in range(x_val.shape[0]):\n",
    "            y_pred = self.predict(x_val[i])\n",
    "            if y_pred == y_val[i]: correct += 1\n",
    "        return correct / x_val.shape[0]"
   ]
  },
  {
   "cell_type": "code",
   "execution_count": 4,
   "metadata": {},
   "outputs": [],
   "source": [
    "x_train,y_train = loadData('../input/mnist_train.csv')\n",
    "x_val,y_val = loadData('../input/mnist_test.csv')"
   ]
  },
  {
   "cell_type": "code",
   "execution_count": 5,
   "metadata": {},
   "outputs": [
    {
     "name": "stdout",
     "output_type": "stream",
     "text": [
      "(12665, 784) (12665,)\n",
      "(2115, 784) (2115,)\n"
     ]
    }
   ],
   "source": [
    "print(x_train.shape,y_train.shape)\n",
    "print(x_val.shape,y_val.shape)"
   ]
  },
  {
   "cell_type": "code",
   "execution_count": 6,
   "metadata": {},
   "outputs": [
    {
     "name": "stdout",
     "output_type": "stream",
     "text": [
      "Epoch 0 costs 76.30 seconds.\n"
     ]
    },
    {
     "name": "stderr",
     "output_type": "stream",
     "text": [
      "C:\\ProgramData\\Anaconda3\\lib\\site-packages\\ipykernel_launcher.py:88: RuntimeWarning: divide by zero encountered in double_scalars\n"
     ]
    }
   ],
   "source": [
    "model = SVM(x_train,y_train,x_val,y_val)\n",
    "model.fit(1)"
   ]
  },
  {
   "cell_type": "code",
   "execution_count": 7,
   "metadata": {},
   "outputs": [
    {
     "name": "stdout",
     "output_type": "stream",
     "text": [
      "The accuracy of train dataset is 0.9716\n"
     ]
    }
   ],
   "source": [
    "acc_train = model.test(model.x_train,model.y_train)\n",
    "print(\"The accuracy of train dataset is {:.4f}\".format(acc_train))"
   ]
  },
  {
   "cell_type": "code",
   "execution_count": 8,
   "metadata": {},
   "outputs": [
    {
     "name": "stdout",
     "output_type": "stream",
     "text": [
      "The accuracy of val dataset is 0.9835\n"
     ]
    }
   ],
   "source": [
    "acc_val = model.test(x_val,y_val)\n",
    "print(\"The accuracy of val dataset is {:.4f}\".format(acc_val))"
   ]
  }
 ],
 "metadata": {
  "kernelspec": {
   "display_name": "Python 3",
   "language": "python",
   "name": "python3"
  },
  "language_info": {
   "codemirror_mode": {
    "name": "ipython",
    "version": 3
   },
   "file_extension": ".py",
   "mimetype": "text/x-python",
   "name": "python",
   "nbconvert_exporter": "python",
   "pygments_lexer": "ipython3",
   "version": "3.7.3"
  }
 },
 "nbformat": 4,
 "nbformat_minor": 2
}

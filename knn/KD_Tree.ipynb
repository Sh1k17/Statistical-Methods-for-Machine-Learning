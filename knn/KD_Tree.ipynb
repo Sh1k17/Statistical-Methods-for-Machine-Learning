{
 "cells": [
  {
   "cell_type": "code",
   "execution_count": 1,
   "metadata": {},
   "outputs": [],
   "source": [
    "import numpy as np\n",
    "import time\n",
    "import heapq\n",
    "from heapq import *"
   ]
  },
  {
   "cell_type": "code",
   "execution_count": 2,
   "metadata": {},
   "outputs": [],
   "source": [
    "def loadData(filename):\n",
    "    fr = open(filename,'r')\n",
    "    \n",
    "    x,y = [],[]\n",
    "    \n",
    "    for line in fr.readlines():\n",
    "        curline = line.strip().split(',')\n",
    "        \n",
    "        x.append([int(num) for num in curline[1:]])\n",
    "        y.append(int(curline[0]))\n",
    "    x = np.array(x)\n",
    "    y = np.array(y)\n",
    "    return x,y"
   ]
  },
  {
   "cell_type": "code",
   "execution_count": 3,
   "metadata": {},
   "outputs": [],
   "source": [
    "class maxheap:\n",
    "    def __init__(self,length):\n",
    "        self.heap = [(-np.inf,0,None)] * length\n",
    "        \n",
    "    def pushpop(self,tup):\n",
    "        heapq.heappushpop(self.heap,tup)\n",
    "        \n",
    "    def get_nsmallest(self,k):\n",
    "        return heapq.nlargest(self.heap,k)"
   ]
  },
  {
   "cell_type": "code",
   "execution_count": 4,
   "metadata": {},
   "outputs": [],
   "source": [
    "class Node:\n",
    "    def __init__(self,data,label,sp,left,right):\n",
    "        self.data = data\n",
    "        self.label = label\n",
    "        self.sp = sp\n",
    "        self.left = left\n",
    "        self.right = right"
   ]
  },
  {
   "cell_type": "code",
   "execution_count": 5,
   "metadata": {},
   "outputs": [],
   "source": [
    "class KD_Tree:\n",
    "    \n",
    "    def __init__(self,x_train,y_train):\n",
    "        self.tup = list(zip(x_train,y_train))\n",
    "        self.root = self.create_KD_Tree(self.tup,0)\n",
    "        \n",
    "    def create_KD_Tree(self,data,sp):\n",
    "        if len(data) == 0: return None\n",
    "        \n",
    "        data = sorted(data,key = lambda x:x[0][sp])\n",
    "        mid = len(data) // 2\n",
    "        \n",
    "        d = data[mid]\n",
    "        return Node(d[0],d[1],sp,self.create_KD_Tree(data[:mid],sp + 1),self.create_KD_Tree(data[mid + 1:],sp + 1))\n",
    "    \n",
    "    def get_nearest(self,target,k):\n",
    "        heap = maxheap(k)\n",
    "        def visit(node):\n",
    "            if node:\n",
    "                dis = target[node.sp] - node.data[node.sp]\n",
    "                visit(node.left if dis < 0 else node.right)\n",
    "                \n",
    "                curdistance = np.linalg.norm(target - node.data)\n",
    "                \n",
    "                heap.pushpop((-curdistance,id(node),node))\n",
    "\n",
    "                if - heap.heap[0][0] > abs(dis):  visit(node.right if dis < 0 else node.left)\n",
    "        visit(self.root)\n",
    "        return [element[2].label for element in heap.heap]"
   ]
  },
  {
   "cell_type": "code",
   "execution_count": 6,
   "metadata": {},
   "outputs": [],
   "source": [
    "def test(x_train,y_train,x_val,y_val,k):\n",
    "    \n",
    "    start = time.time()\n",
    "    tree = KD_Tree(x_train,y_train)\n",
    "    correct = 0\n",
    "    \n",
    "#     for i in range(x_val.shape[0]):\n",
    "    for i in range(100):\n",
    "        pred_labels = tree.get_nearest(x_val[i],k)\n",
    "        pred_label = max(pred_labels,key = pred_labels.count)\n",
    "        if pred_label == y_val[i]: correct += 1\n",
    "        \n",
    "    print(\"Time of training consumes:{:.2f} Accuracy is:{:.2f}\".format(time.time() - start , correct/100))\n",
    "    return correct / 100"
   ]
  },
  {
   "cell_type": "code",
   "execution_count": 7,
   "metadata": {},
   "outputs": [
    {
     "name": "stdout",
     "output_type": "stream",
     "text": [
      "Time of training consumes:82.07 Accuracy is:0.98\n"
     ]
    }
   ],
   "source": [
    "x_train,y_train = loadData('../input/mnist_train.csv')\n",
    "x_val,y_val = loadData('../input/mnist_test.csv')\n",
    "acc = test(x_train,y_train,x_val,y_val,25)"
   ]
  },
  {
   "cell_type": "code",
   "execution_count": null,
   "metadata": {},
   "outputs": [],
   "source": []
  }
 ],
 "metadata": {
  "kernelspec": {
   "display_name": "Python 3",
   "language": "python",
   "name": "python3"
  },
  "language_info": {
   "codemirror_mode": {
    "name": "ipython",
    "version": 3
   },
   "file_extension": ".py",
   "mimetype": "text/x-python",
   "name": "python",
   "nbconvert_exporter": "python",
   "pygments_lexer": "ipython3",
   "version": "3.7.3"
  }
 },
 "nbformat": 4,
 "nbformat_minor": 2
}

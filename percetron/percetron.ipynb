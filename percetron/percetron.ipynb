{
 "cells": [
  {
   "cell_type": "code",
   "execution_count": 1,
   "metadata": {},
   "outputs": [
    {
     "name": "stdout",
     "output_type": "stream",
     "text": [
      "cpu\n"
     ]
    }
   ],
   "source": [
    "import pandas as pd\n",
    "import numpy as np\n",
    "import time\n",
    "import torch\n",
    "from sklearn.metrics import f1_score,accuracy_score,recall_score\n",
    "DEVICE = torch.device('cuda' if torch.cuda.is_available() else 'cpu')\n",
    "print(DEVICE)"
   ]
  },
  {
   "cell_type": "code",
   "execution_count": 2,
   "metadata": {},
   "outputs": [],
   "source": [
    "def load_Data(filename):\n",
    "    fr = open(filename,'r')\n",
    "    x,y = [],[]\n",
    "    for line in fr.readlines():\n",
    "        curline = line.strip().split(',')\n",
    "        x.append([int(num) / 255 for num in curline[1:]])\n",
    "        y.append(1 if int(curline[0]) <= 4 else -1)\n",
    "    return x,y"
   ]
  },
  {
   "cell_type": "code",
   "execution_count": 3,
   "metadata": {},
   "outputs": [],
   "source": [
    "def percetron(x_train,y_train):\n",
    "    data_mat = np.mat(x_train)\n",
    "    label_mat = np.mat(y_train).T\n",
    "    \n",
    "    len_data_mat = data_mat.shape[0]\n",
    "    \n",
    "    w = np.zeros((1,data_mat.shape[1]))\n",
    "    b = 0\n",
    "    lr = 1e-4\n",
    "    \n",
    "    \n",
    "    for epoch in range(30):\n",
    "        for i in range(len_data_mat):\n",
    "            x_i = data_mat[i]\n",
    "            y_i = label_mat[i]\n",
    "            \n",
    "            if -1 * y_i * (w * x_i.T + b) >= 0:\n",
    "                w = w + lr * y_i * x_i\n",
    "                b = b + lr * y_i\n",
    "    return w,b"
   ]
  },
  {
   "cell_type": "code",
   "execution_count": 4,
   "metadata": {},
   "outputs": [],
   "source": [
    "def test(x_val,y_val,b,w):\n",
    "    data_mat = np.mat(x_val)\n",
    "    label_mat = np.mat(y_val).T\n",
    "    \n",
    "    y_pred = []\n",
    "    len_data_mat = len(data_mat)\n",
    "    encorrect = 0\n",
    "    \n",
    "    for i in range(len_data_mat):\n",
    "        x_i = data_mat[i]\n",
    "        y_i = label_mat[i]\n",
    "        \n",
    "        if -1 * y_i * (w * x_i.T + b) >= 0:\n",
    "            encorrect += 1\n",
    "    print(\"accuracy:\",1 - encorrect/len_data_mat)"
   ]
  },
  {
   "cell_type": "code",
   "execution_count": 5,
   "metadata": {},
   "outputs": [
    {
     "name": "stdout",
     "output_type": "stream",
     "text": [
      "x_train_length: 60000 x_val_length: 10000\n",
      "y_train_length: 60000 y_val_length: 10000\n"
     ]
    }
   ],
   "source": [
    "x_train,y_train = load_Data('../input/mnist_train.csv')\n",
    "x_val,y_val = load_Data('../input/mnist_test.csv')\n",
    "print(\"x_train_length:\",len(x_train),\"x_val_length:\",len(x_val))\n",
    "print(\"y_train_length:\",len(y_train),\"y_val_length:\",len(y_val))"
   ]
  },
  {
   "cell_type": "code",
   "execution_count": 6,
   "metadata": {},
   "outputs": [
    {
     "name": "stdout",
     "output_type": "stream",
     "text": [
      "accuracy: 0.8241\n",
      "accuracy: 0.8172\n"
     ]
    }
   ],
   "source": [
    "w,b = percetron(x_train,y_train)\n",
    "test(x_train,y_train,b,w)\n",
    "test(x_val,y_val,b,w)"
   ]
  }
 ],
 "metadata": {
  "kernelspec": {
   "display_name": "Python 3",
   "language": "python",
   "name": "python3"
  },
  "language_info": {
   "codemirror_mode": {
    "name": "ipython",
    "version": 3
   },
   "file_extension": ".py",
   "mimetype": "text/x-python",
   "name": "python",
   "nbconvert_exporter": "python",
   "pygments_lexer": "ipython3",
   "version": "3.7.3"
  }
 },
 "nbformat": 4,
 "nbformat_minor": 2
}

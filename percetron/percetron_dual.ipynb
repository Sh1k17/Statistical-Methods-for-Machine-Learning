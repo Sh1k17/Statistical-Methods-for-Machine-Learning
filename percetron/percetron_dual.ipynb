{
 "cells": [
  {
   "cell_type": "code",
   "execution_count": 1,
   "metadata": {},
   "outputs": [],
   "source": [
    "import pandas as pd\n",
    "import numpy as np\n",
    "import time\n",
    "from sklearn.metrics import f1_score,accuracy_score,recall_score"
   ]
  },
  {
   "cell_type": "code",
   "execution_count": 2,
   "metadata": {},
   "outputs": [],
   "source": [
    "def load_Data(filename):\n",
    "    fr = open(filename,'r')\n",
    "    x,y = [],[]\n",
    "    for line in fr.readlines():\n",
    "        curline = line.strip().split(',')\n",
    "        x.append([int(num) / 255 for num in curline[1:]])\n",
    "        y.append(1 if int(curline[0]) <= 4 else -1)\n",
    "        if len(x) == 1000:\n",
    "            break\n",
    "    return x,y "
   ]
  },
  {
   "cell_type": "code",
   "execution_count": 3,
   "metadata": {},
   "outputs": [],
   "source": [
    "def percetron(x_train,y_train):\n",
    "    data_mat = np.mat(x_train,dtype = np.float32)\n",
    "    label_mat = np.mat(y_train).T\n",
    "\n",
    "    len_data_mat = data_mat.shape[0]\n",
    "    \n",
    "    b = 0\n",
    "    lr = 1e-4\n",
    "    alpha = np.zeros((len_data_mat,))\n",
    "    G_matrix = np.dot(data_mat,data_mat.T)\n",
    "\n",
    "    print(\"start to train...\")\n",
    "    for epoch in range(30):\n",
    "        start_train = time.time()\n",
    "        for i in range(len_data_mat):\n",
    "            x_i = data_mat[i]\n",
    "            y_i = label_mat[i]\n",
    "            sum = 0\n",
    "            \n",
    "            for j in range(len_data_mat):\n",
    "                sum += alpha[j] * label_mat[j] * G_matrix[i,j]\n",
    "                \n",
    "            if (sum + b) * y_i <= 0:\n",
    "                alpha[i] += lr\n",
    "                b += y_i*lr\n",
    "                \n",
    "        print('Time of epoch {} consume:{:.2f} seconds:'.format(epoch + 1,time.time() - start_train))\n",
    "    return G_matrix,alpha,b"
   ]
  },
  {
   "cell_type": "code",
   "execution_count": 4,
   "metadata": {},
   "outputs": [],
   "source": [
    "def test(x,y,alpha,b,G_matrix):\n",
    "    data_mat = np.mat(x,dtype = np.float32)\n",
    "    label_mat = np.mat(y).T\n",
    "    \n",
    "    len_data_mat = len(data_mat)\n",
    "    correct = 0\n",
    "    \n",
    "    for i in range(len_data_mat):\n",
    "\n",
    "        x_i = data_mat[i]\n",
    "        y_i = label_mat[i]\n",
    "        \n",
    "        sum = 0\n",
    "        for j in range(len_data_mat):\n",
    "            sum += alpha[j] * label_mat[j] * G_matrix[i,j]\n",
    "        if y_i * (sum + b) > 0:\n",
    "            correct += 1\n",
    "\n",
    "    return correct/len_data_mat"
   ]
  },
  {
   "cell_type": "code",
   "execution_count": 5,
   "metadata": {},
   "outputs": [
    {
     "name": "stdout",
     "output_type": "stream",
     "text": [
      "x_train_length: 1000 x_val_length: 1000\n",
      "y_train_length: 1000 y_val_length: 1000\n"
     ]
    }
   ],
   "source": [
    "x_train,y_train = load_Data('../input/mnist_train.csv')\n",
    "x_val,y_val = load_Data('../input/mnist_test.csv')\n",
    "print(\"x_train_length:\",len(x_train),\"x_val_length:\",len(x_val))\n",
    "print(\"y_train_length:\",len(y_train),\"y_val_length:\",len(y_val))"
   ]
  },
  {
   "cell_type": "code",
   "execution_count": 6,
   "metadata": {},
   "outputs": [
    {
     "name": "stdout",
     "output_type": "stream",
     "text": [
      "start to train...\n",
      "Time of epoch 1 consume:28.95 seconds:\n",
      "Time of epoch 2 consume:34.59 seconds:\n",
      "Time of epoch 3 consume:40.94 seconds:\n",
      "Time of epoch 4 consume:35.44 seconds:\n",
      "Time of epoch 5 consume:32.33 seconds:\n",
      "Time of epoch 6 consume:35.21 seconds:\n",
      "Time of epoch 7 consume:30.22 seconds:\n",
      "Time of epoch 8 consume:33.74 seconds:\n",
      "Time of epoch 9 consume:35.79 seconds:\n",
      "Time of epoch 10 consume:38.48 seconds:\n",
      "Time of epoch 11 consume:38.52 seconds:\n",
      "Time of epoch 12 consume:25.00 seconds:\n",
      "Time of epoch 13 consume:36.96 seconds:\n",
      "Time of epoch 14 consume:36.89 seconds:\n",
      "Time of epoch 15 consume:33.89 seconds:\n",
      "Time of epoch 16 consume:31.02 seconds:\n",
      "Time of epoch 17 consume:30.68 seconds:\n",
      "Time of epoch 18 consume:33.16 seconds:\n",
      "Time of epoch 19 consume:32.06 seconds:\n",
      "Time of epoch 20 consume:35.43 seconds:\n",
      "Time of epoch 21 consume:37.00 seconds:\n",
      "Time of epoch 22 consume:30.05 seconds:\n",
      "Time of epoch 23 consume:28.02 seconds:\n",
      "Time of epoch 24 consume:29.73 seconds:\n",
      "Time of epoch 25 consume:32.18 seconds:\n",
      "Time of epoch 26 consume:29.02 seconds:\n",
      "Time of epoch 27 consume:31.66 seconds:\n",
      "Time of epoch 28 consume:33.15 seconds:\n",
      "Time of epoch 29 consume:32.93 seconds:\n",
      "Time of epoch 30 consume:29.88 seconds:\n"
     ]
    }
   ],
   "source": [
    "G,alpha,b = percetron(x_train,y_train)"
   ]
  },
  {
   "cell_type": "code",
   "execution_count": 7,
   "metadata": {},
   "outputs": [
    {
     "name": "stdout",
     "output_type": "stream",
     "text": [
      "accuracy: 0.923\n"
     ]
    }
   ],
   "source": [
    "acc_train = test(x_train,y_train,alpha,b,G)\n",
    "print(\"accuracy:\",acc_train)"
   ]
  },
  {
   "cell_type": "code",
   "execution_count": 8,
   "metadata": {},
   "outputs": [
    {
     "name": "stdout",
     "output_type": "stream",
     "text": [
      "accuracy: 0.544\n"
     ]
    }
   ],
   "source": [
    "acc_val = test(x_val,y_val,alpha,b,G)\n",
    "print(\"accuracy:\",acc_val)"
   ]
  },
  {
   "cell_type": "code",
   "execution_count": null,
   "metadata": {},
   "outputs": [],
   "source": []
  }
 ],
 "metadata": {
  "kernelspec": {
   "display_name": "Python 3",
   "language": "python",
   "name": "python3"
  },
  "language_info": {
   "codemirror_mode": {
    "name": "ipython",
    "version": 3
   },
   "file_extension": ".py",
   "mimetype": "text/x-python",
   "name": "python",
   "nbconvert_exporter": "python",
   "pygments_lexer": "ipython3",
   "version": "3.7.3"
  }
 },
 "nbformat": 4,
 "nbformat_minor": 2
}
